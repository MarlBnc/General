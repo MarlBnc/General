{
 "cells": [
  {
   "cell_type": "code",
   "execution_count": 1,
   "id": "d260c6cc",
   "metadata": {},
   "outputs": [],
   "source": [
    "import numpy as np\n",
    "\n",
    "numbers = np.arange(151)\n",
    "proba = {\n",
    "    'common' : (0.749, 90),\n",
    "    'rare' : (0.15, 35),\n",
    "    'epique' : (0.075, 15),\n",
    "    'legendaire' : (0.025, 10),\n",
    "    'ultime' : (0.001, 1)\n",
    "}\n",
    "PRICE = 450\n",
    "N_CARD_PER_PACK = 4\n",
    "N_SIMU = 2000"
   ]
  },
  {
   "cell_type": "code",
   "execution_count": 2,
   "id": "566dd278",
   "metadata": {},
   "outputs": [],
   "source": [
    "card_vect = [[name]*n[1] for name,n in proba.items()]\n",
    "card_vect = np.hstack(card_vect)\n",
    "proba_vect =  [[p/n]*n for p,n in proba.values()]\n",
    "proba_vect = np.hstack(proba_vect)\n",
    "\n",
    "results = {}\n",
    "for l in proba.keys():\n",
    "    results[l] = []\n",
    "results['cartes'] = []\n",
    "\n"
   ]
  },
  {
   "cell_type": "code",
   "execution_count": 3,
   "id": "b691ae27",
   "metadata": {},
   "outputs": [
    {
     "name": "stdout",
     "output_type": "stream",
     "text": [
      "Toutes les common ont été obtenus en 149.432 packs en moyennne\n",
      "Toutes les rare ont été obtenus en 242.06 packs en moyennne\n",
      "Toutes les epique ont été obtenus en 160.784 packs en moyennne\n",
      "Toutes les legendaire ont été obtenus en 297.758 packs en moyennne\n",
      "Toutes les ultime ont été obtenus en 129.108 packs en moyennne\n",
      "Toutes les cartes ont été obtenus en 341.998 packs en moyennne\n"
     ]
    }
   ],
   "source": [
    "for simu in range(N_SIMU):\n",
    "    unique_pick = []\n",
    "    found = []\n",
    "    n_packs = []\n",
    "    i = 0\n",
    "    while len(unique_pick) != len(numbers):\n",
    "        i += 1\n",
    "        pack = np.random.choice(numbers, N_CARD_PER_PACK, replace=False, p=proba_vect)\n",
    "        for n in pack:\n",
    "            if n not in unique_pick:\n",
    "                unique_pick.append(n)\n",
    "        unique_values, counts = np.unique(card_vect[unique_pick], return_counts=True)\n",
    "        tirage = {}\n",
    "        for l, c in zip(unique_values, counts):\n",
    "            tirage[l] = c\n",
    "        for level in unique_values:\n",
    "            if proba[level][1] == tirage[level] and level not in found:\n",
    "                found.append(level)\n",
    "                n_packs.append(i)\n",
    "                # print(f'Toutes les {level} ont été obtenus en {i} pack')\n",
    "    found.append('cartes')\n",
    "    n_packs.append(i)\n",
    "    # print(f'toutes les cartes ont été trouvées en {i} paquet\\n')\n",
    "\n",
    "    for l, n in zip(found,n_packs):\n",
    "        results[l].append(n)\n",
    "\n",
    "for l, v in results.items():\n",
    "    print(f'Toutes les {l} ont été obtenus en {np.mean(v):.3g} packs en moyennne : {round(np.mean(v))*PRICE}$')"
   ]
  },
  {
   "cell_type": "code",
   "execution_count": null,
   "id": "df4fa03f",
   "metadata": {},
   "outputs": [],
   "source": []
  }
 ],
 "metadata": {
  "kernelspec": {
   "display_name": "Python 3 (ipykernel)",
   "language": "python",
   "name": "python3"
  },
  "language_info": {
   "codemirror_mode": {
    "name": "ipython",
    "version": 3
   },
   "file_extension": ".py",
   "mimetype": "text/x-python",
   "name": "python",
   "nbconvert_exporter": "python",
   "pygments_lexer": "ipython3",
   "version": "3.9.16"
  }
 },
 "nbformat": 4,
 "nbformat_minor": 5
}
